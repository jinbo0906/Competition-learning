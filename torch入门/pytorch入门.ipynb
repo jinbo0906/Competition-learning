{
 "cells": [
  {
   "cell_type": "markdown",
   "id": "83b55c87",
   "metadata": {},
   "source": [
    "# PyTorch是什么?\n",
    "这是一个基于Python的科学计算包，其旨在服务两类场合：\n",
    "\n",
    "替代numpy发挥GPU潜能\n",
    "一个提供了高度灵活性和效率的深度学习实验性平台"
   ]
  },
  {
   "cell_type": "markdown",
   "id": "db3c5296",
   "metadata": {},
   "source": [
    "## Tensors\n",
    "\n",
    "Tensors和numpy中的ndarrays较为相似, 与此同时Tensor也能够使用GPU来加速运算。"
   ]
  },
  {
   "cell_type": "code",
   "execution_count": 49,
   "id": "6e1e5b3f",
   "metadata": {
    "ExecuteTime": {
     "end_time": "2023-02-03T10:00:15.447285Z",
     "start_time": "2023-02-03T10:00:15.434320Z"
    }
   },
   "outputs": [
    {
     "name": "stdout",
     "output_type": "stream",
     "text": [
      "torch.Size([5, 3])\n",
      "tensor([[0.8718, 0.3096, 0.6011],\n",
      "        [0.6473, 0.3605, 0.5380],\n",
      "        [0.4544, 0.3708, 0.5587],\n",
      "        [0.7396, 0.1074, 0.9795],\n",
      "        [0.5635, 0.4999, 0.0796]]) tensor([[0.8014, 0.8787, 0.6159],\n",
      "        [0.4447, 0.0327, 0.7391],\n",
      "        [0.1914, 0.3297, 0.0036],\n",
      "        [0.1196, 0.2235, 0.6691],\n",
      "        [0.4042, 0.9543, 0.7822]])\n"
     ]
    }
   ],
   "source": [
    "import torch\n",
    "x = torch.Tensor(5, 3)  # 构造一个未初始化的5*3的矩阵\n",
    "x = torch.rand(5, 3)  # 构造一个随机初始化的矩阵\n",
    "y = torch.rand(5, 3)\n",
    "print(x.size())\n",
    "print(x,y)"
   ]
  },
  {
   "cell_type": "code",
   "execution_count": 50,
   "id": "91c1566f",
   "metadata": {
    "ExecuteTime": {
     "end_time": "2023-02-03T10:00:16.729857Z",
     "start_time": "2023-02-03T10:00:16.585243Z"
    }
   },
   "outputs": [
    {
     "name": "stdout",
     "output_type": "stream",
     "text": [
      "tensor([[1.6731, 1.1882, 1.2170],\n",
      "        [1.0920, 0.3932, 1.2771],\n",
      "        [0.6458, 0.7005, 0.5623],\n",
      "        [0.8592, 0.3309, 1.6486],\n",
      "        [0.9677, 1.4542, 0.8618]])\n"
     ]
    },
    {
     "data": {
      "text/plain": [
       "tensor([[1.6731, 1.1882, 1.2170],\n",
       "        [1.0920, 0.3932, 1.2771],\n",
       "        [0.6458, 0.7005, 0.5623],\n",
       "        [0.8592, 0.3309, 1.6486],\n",
       "        [0.9677, 1.4542, 0.8618]])"
      ]
     },
     "execution_count": 50,
     "metadata": {},
     "output_type": "execute_result"
    }
   ],
   "source": [
    "# 将两个同形矩阵相加有两种语法结构\n",
    "print(x + y) # 语法一\n",
    "torch.add(x, y) # 语法二"
   ]
  },
  {
   "cell_type": "code",
   "execution_count": 51,
   "id": "5e0c941e",
   "metadata": {
    "ExecuteTime": {
     "end_time": "2023-02-03T10:00:17.732805Z",
     "start_time": "2023-02-03T10:00:17.669973Z"
    }
   },
   "outputs": [
    {
     "name": "stdout",
     "output_type": "stream",
     "text": [
      "tensor([[1.6731, 1.1882, 1.2170],\n",
      "        [1.0920, 0.3932, 1.2771],\n",
      "        [0.6458, 0.7005, 0.5623],\n",
      "        [0.8592, 0.3309, 1.6486],\n",
      "        [0.9677, 1.4542, 0.8618]])\n"
     ]
    }
   ],
   "source": [
    "# 另外输出tensor也有两种写法\n",
    "result = torch.Tensor(5, 3) # 语法一\n",
    "torch.add(x, y, out=result) # 语法二 对输入张量x逐元素加上标量值y，并返回结果到一个新的张量out，即 out=tensor+value\n",
    "y.add_(x) # 将y与x相加\n",
    "print(y)"
   ]
  },
  {
   "cell_type": "markdown",
   "id": "5d3542dc",
   "metadata": {},
   "source": [
    "tensor操作：https://pytorch.org/docs/stable/torch.html"
   ]
  },
  {
   "cell_type": "markdown",
   "id": "df6720b5",
   "metadata": {},
   "source": [
    "## numpy转换"
   ]
  },
  {
   "cell_type": "code",
   "execution_count": 52,
   "id": "4d54c34b",
   "metadata": {
    "ExecuteTime": {
     "end_time": "2023-02-03T10:00:20.435352Z",
     "start_time": "2023-02-03T10:00:20.417382Z"
    }
   },
   "outputs": [],
   "source": [
    "# tensor和numpy数据结构的相互转换\n",
    "a = torch.ones(5)\n",
    "b = a.numpy()"
   ]
  },
  {
   "cell_type": "code",
   "execution_count": 53,
   "id": "095ceeb9",
   "metadata": {
    "ExecuteTime": {
     "end_time": "2023-02-03T10:00:21.548937Z",
     "start_time": "2023-02-03T10:00:21.489097Z"
    }
   },
   "outputs": [
    {
     "name": "stdout",
     "output_type": "stream",
     "text": [
      "tensor([2., 2., 2., 2., 2.])\n",
      "[2. 2. 2. 2. 2.]\n"
     ]
    }
   ],
   "source": [
    "# 当修改numpy数组之后,与之相关联的tensor也会相应的被修改\n",
    "a.add_(1)\n",
    "print(a)\n",
    "print(b)"
   ]
  },
  {
   "cell_type": "code",
   "execution_count": 54,
   "id": "27c2b64e",
   "metadata": {
    "ExecuteTime": {
     "end_time": "2023-02-03T10:00:22.631044Z",
     "start_time": "2023-02-03T10:00:22.575194Z"
    }
   },
   "outputs": [
    {
     "name": "stdout",
     "output_type": "stream",
     "text": [
      "[2. 2. 2. 2. 2.]\n",
      "tensor([2., 2., 2., 2., 2.], dtype=torch.float64)\n"
     ]
    }
   ],
   "source": [
    "# 将numpy的Array转换为torch的Tensor\n",
    "import numpy as np\n",
    "a = np.ones(5)\n",
    "b = torch.from_numpy(a)\n",
    "np.add(a, 1, out=a)\n",
    "print(a)\n",
    "print(b)"
   ]
  },
  {
   "cell_type": "code",
   "execution_count": 55,
   "id": "4f7b2778",
   "metadata": {
    "ExecuteTime": {
     "end_time": "2023-02-03T10:00:24.616756Z",
     "start_time": "2023-02-03T10:00:24.507049Z"
    }
   },
   "outputs": [
    {
     "name": "stdout",
     "output_type": "stream",
     "text": [
      "tensor([[2.5449, 1.4978, 1.8181],\n",
      "        [1.7393, 0.7537, 1.8151],\n",
      "        [1.1002, 1.0714, 1.1209],\n",
      "        [1.5988, 0.4383, 2.6280],\n",
      "        [1.5311, 1.9541, 0.9414]], device='cuda:0')\n"
     ]
    }
   ],
   "source": [
    "# 另外除了CharTensor之外，所有的tensor都可以在CPU运算和GPU预算之间相互转换\n",
    "# 使用CUDA函数来将Tensor移动到GPU上\n",
    "# 当CUDA可用时会进行GPU的运算\n",
    "if torch.cuda.is_available():\n",
    "    x = x.cuda()\n",
    "    y = y.cuda()\n",
    "    print(x + y)"
   ]
  },
  {
   "attachments": {
    "image.png": {
     "image/png": "[encoded data removed]"
    }
   },
   "cell_type": "markdown",
   "id": "185abd92",
   "metadata": {},
   "source": [
    "# Pytorch梯度计算、随机梯度下降\n",
    "\n",
    "使用numpy创建一个y=10*x+4+noise(0,1)的数据，其中x是0到100的范围，以0.01进行等差数列\n",
    "\n",
    "生成一个包含1000个样本的数据集， 每个样本包含从标准正态分布中采样的2个特征\n",
    "\n",
    "![image.png](attachment:image.png)\n",
    "\n",
    "使用pytroch定义w和b，并使用随机梯度下降，完成回归拟合。"
   ]
  },
  {
   "cell_type": "code",
   "execution_count": 57,
   "id": "455dab86",
   "metadata": {
    "ExecuteTime": {
     "end_time": "2023-02-03T10:00:38.987412Z",
     "start_time": "2023-02-03T10:00:38.858756Z"
    },
    "code_folding": []
   },
   "outputs": [
    {
     "name": "stdout",
     "output_type": "stream",
     "text": [
      "tensor([0.0000e+00, 1.0000e-02, 2.0000e-02,  ..., 9.9980e+01, 9.9990e+01,\n",
      "        1.0000e+02])\n",
      "tensor([[   3.9922],\n",
      "        [   4.0980],\n",
      "        [   4.1874],\n",
      "        ...,\n",
      "        [1003.7857],\n",
      "        [1003.9197],\n",
      "        [1004.0023]])\n"
     ]
    },
    {
     "name": "stderr",
     "output_type": "stream",
     "text": [
      "C:\\mjb/ipykernel_19400/920387884.py:4: UserWarning: torch.range is deprecated and will be removed in a future release because its behavior is inconsistent with Python's range builtin. Instead, use torch.arange, which produces values in [start, end).\n",
      "  X = torch.range(start,stop,rate)\n"
     ]
    }
   ],
   "source": [
    "# 创建一个y=10*x+4+noise(0,1)的数据\n",
    "def synthetic_data1(w, b, start,stop,rate):  #@save\n",
    "    \"\"\"生成y=Xw+b+噪声\"\"\"\n",
    "    X = torch.range(start,stop,rate)\n",
    "    y = X*w + b\n",
    "    y += torch.normal(0, 0.01, y.shape)\n",
    "    return X, y.reshape((-1, 1))\n",
    "\n",
    "true_w = torch.tensor([10.0])\n",
    "true_b = 4\n",
    "features, labels = synthetic_data1(true_w, true_b, 0,100,0.01)\n",
    "print(features)\n",
    "print(labels)"
   ]
  },
  {
   "cell_type": "code",
   "execution_count": 58,
   "id": "c66bf6f6",
   "metadata": {
    "ExecuteTime": {
     "end_time": "2023-02-03T10:00:52.931949Z",
     "start_time": "2023-02-03T10:00:52.693586Z"
    },
    "scrolled": true
   },
   "outputs": [
    {
     "data": {
      "text/plain": [
       "<matplotlib.collections.PathCollection at 0x25f91872790>"
      ]
     },
     "execution_count": 58,
     "metadata": {},
     "output_type": "execute_result"
    },
    {
     "data": {
      "image/png": "[encoded data removed]",
      "text/plain": [
       "<Figure size 432x288 with 1 Axes>"
      ]
     },
     "metadata": {
      "needs_background": "light"
     },
     "output_type": "display_data"
    }
   ],
   "source": [
    "import matplotlib.pyplot as plt\n",
    "plt.scatter(features.detach().numpy(), labels.detach().numpy(), 1)"
   ]
  },
  {
   "cell_type": "code",
   "execution_count": 61,
   "id": "093e775b",
   "metadata": {
    "ExecuteTime": {
     "end_time": "2023-02-03T10:02:27.281785Z",
     "start_time": "2023-02-03T10:02:27.259843Z"
    }
   },
   "outputs": [],
   "source": [
    "def synthetic_data(w, b, num_examples):  #@save\n",
    "    \"\"\"生成y=Xw+b+噪声\"\"\"\n",
    "    X = torch.normal(0, 1, (num_examples, len(w)))\n",
    "    y = torch.matmul(X, w) + b\n",
    "    y += torch.normal(0, 0.01, y.shape)\n",
    "    return X, y.reshape((-1, 1))\n",
    "\n",
    "true_w = torch.tensor([2, -3.4])\n",
    "true_b = 4.2\n",
    "# features中的每一行都包含一个二维数据样本， labels中的每一行都包含一维标签值（一个标量）。\n",
    "features, labels = synthetic_data(true_w, true_b, 1000)"
   ]
  },
  {
   "cell_type": "code",
   "execution_count": 62,
   "id": "354a72e9",
   "metadata": {
    "ExecuteTime": {
     "end_time": "2023-02-03T10:02:28.556378Z",
     "start_time": "2023-02-03T10:02:28.330980Z"
    },
    "scrolled": true
   },
   "outputs": [
    {
     "data": {
      "text/plain": [
       "<matplotlib.collections.PathCollection at 0x25f9120d2b0>"
      ]
     },
     "execution_count": 62,
     "metadata": {},
     "output_type": "execute_result"
    },
    {
     "data": {
      "image/png": "[encoded data removed]",
      "text/plain": [
       "<Figure size 432x288 with 1 Axes>"
      ]
     },
     "metadata": {
      "needs_background": "light"
     },
     "output_type": "display_data"
    }
   ],
   "source": [
    "# 通过生成第二个特征features[:, 1]和labels的散点图， 可以直观观察到两者之间的线性关系。\n",
    "plt.scatter(features[:,1].detach().numpy(), labels.detach().numpy(), 1)"
   ]
  },
  {
   "cell_type": "markdown",
   "id": "6a8bd98f",
   "metadata": {},
   "source": [
    "## 读取数据集"
   ]
  },
  {
   "cell_type": "markdown",
   "id": "31a9c387",
   "metadata": {},
   "source": [
    "训练模型时要对数据集进行遍历，每次抽取一小批量样本，并使用它们来更新我们的模型。 由于这个过程是训练机器学习算法的基础，所以有必要定义一个函数， 该函数能打乱数据集中的样本并以小批量方式获取数据。\n",
    "\n",
    "定义一个data_iter函数， 该函数接收批量大小、特征矩阵和标签向量作为输入，生成大小为batch_size的小批量。 每个小批量包含一组特征和标签。"
   ]
  },
  {
   "cell_type": "code",
   "execution_count": 63,
   "id": "8de64562",
   "metadata": {
    "ExecuteTime": {
     "end_time": "2023-02-03T10:02:49.730093Z",
     "start_time": "2023-02-03T10:02:49.714135Z"
    }
   },
   "outputs": [],
   "source": [
    "import random\n",
    "# 定义一个读取数据集函数\n",
    "def data_iter(batch_size, features, labels):\n",
    "    num_examples = len(features)\n",
    "    indices = list(range(num_examples))\n",
    "    # 这些样本是随机读取的，没有特定的顺序\n",
    "    random.shuffle(indices)\n",
    "    for i in range(0, num_examples, batch_size):\n",
    "        batch_indices = torch.tensor(\n",
    "            indices[i: min(i + batch_size, num_examples)])\n",
    "        yield features[batch_indices], labels[batch_indices]"
   ]
  },
  {
   "cell_type": "code",
   "execution_count": 64,
   "id": "a37c0749",
   "metadata": {
    "ExecuteTime": {
     "end_time": "2023-02-03T10:02:50.476099Z",
     "start_time": "2023-02-03T10:02:50.329490Z"
    }
   },
   "outputs": [
    {
     "name": "stdout",
     "output_type": "stream",
     "text": [
      "tensor([[ 0.0687,  0.5350],\n",
      "        [ 0.8337, -0.1954],\n",
      "        [-0.7083,  1.8948],\n",
      "        [-3.2108, -0.9455],\n",
      "        [-0.3076,  1.6071],\n",
      "        [-1.3092, -0.1389],\n",
      "        [ 0.2390, -0.9214],\n",
      "        [-0.0950, -0.1913],\n",
      "        [ 0.0935,  1.4799],\n",
      "        [-1.9540, -1.4576]]) \n",
      " tensor([[ 2.5148],\n",
      "        [ 6.5459],\n",
      "        [-3.6387],\n",
      "        [ 0.9878],\n",
      "        [-1.8917],\n",
      "        [ 2.0384],\n",
      "        [ 7.8096],\n",
      "        [ 4.6622],\n",
      "        [-0.6445],\n",
      "        [ 5.2523]])\n"
     ]
    }
   ],
   "source": [
    "# 读取第一个小批量数据样本并打印。\n",
    "batch_size = 10\n",
    "\n",
    "for X, y in data_iter(batch_size, features, labels):\n",
    "    print(X, '\\n', y)\n",
    "    break"
   ]
  },
  {
   "cell_type": "markdown",
   "id": "a2393b8d",
   "metadata": {},
   "source": [
    "## 初始化模型参数\n",
    "在我们开始用小批量随机梯度下降优化我们的模型参数之前， 我们需要先有一些参数。 在下面的代码中，我们通过从均值为0、标准差为0.01的正态分布中采样随机数来初始化权重， 并将偏置初始化为0。"
   ]
  },
  {
   "cell_type": "code",
   "execution_count": 65,
   "id": "afebee3d",
   "metadata": {
    "ExecuteTime": {
     "end_time": "2023-02-03T10:02:54.722762Z",
     "start_time": "2023-02-03T10:02:54.709797Z"
    }
   },
   "outputs": [],
   "source": [
    "w = torch.normal(0, 0.01, size=(2,1), requires_grad=True)\n",
    "b = torch.zeros(1, requires_grad=True)"
   ]
  },
  {
   "cell_type": "markdown",
   "id": "4b680a3b",
   "metadata": {},
   "source": [
    "## 定义模型"
   ]
  },
  {
   "cell_type": "code",
   "execution_count": 66,
   "id": "49b749e6",
   "metadata": {
    "ExecuteTime": {
     "end_time": "2023-02-03T10:02:55.627851Z",
     "start_time": "2023-02-03T10:02:55.616881Z"
    }
   },
   "outputs": [],
   "source": [
    "def linreg(X, w, b):  #@save\n",
    "    \"\"\"线性回归模型\"\"\"\n",
    "    return torch.matmul(X, w) + b"
   ]
  },
  {
   "cell_type": "code",
   "execution_count": 67,
   "id": "778462ee",
   "metadata": {
    "ExecuteTime": {
     "end_time": "2023-02-03T10:02:56.009830Z",
     "start_time": "2023-02-03T10:02:55.992876Z"
    }
   },
   "outputs": [],
   "source": [
    "# 定义损失函数\n",
    "def squared_loss(y_hat, y):  #@save\n",
    "    \"\"\"均方损失\"\"\"\n",
    "    return (y_hat - y.reshape(y_hat.shape)) ** 2 / 2"
   ]
  },
  {
   "cell_type": "markdown",
   "id": "cb21ff20",
   "metadata": {},
   "source": [
    "## 优化算法--小批量随机梯度下降\n",
    "在每一步中，使用从数据集中随机抽取的一个小批量，然后根据参数计算损失的梯度。 接下来，朝着减少损失的方向更新我们的参数。 下面的函数实现小批量随机梯度下降更新。 该函数接受模型参数集合、学习速率和批量大小作为输入。每 一步更新的大小由学习速率lr决定。 因为我们计算的损失是一个批量样本的总和，所以我们用批量大小（batch_size） 来规范化步长，这样步长大小就不会取决于我们对批量大小的选择。"
   ]
  },
  {
   "cell_type": "code",
   "execution_count": 68,
   "id": "2cf68825",
   "metadata": {
    "ExecuteTime": {
     "end_time": "2023-02-03T10:02:58.980449Z",
     "start_time": "2023-02-03T10:02:58.962497Z"
    }
   },
   "outputs": [],
   "source": [
    "def sgd(params, lr, batch_size):  #@save\n",
    "    \"\"\"小批量随机梯度下降\"\"\"\n",
    "    with torch.no_grad():\n",
    "        for param in params:\n",
    "            param -= lr * param.grad / batch_size\n",
    "            param.grad.zero_()"
   ]
  },
  {
   "cell_type": "markdown",
   "id": "ff96edc4",
   "metadata": {},
   "source": [
    "## 训练模型"
   ]
  },
  {
   "cell_type": "code",
   "execution_count": 69,
   "id": "0a249265",
   "metadata": {
    "ExecuteTime": {
     "end_time": "2023-02-03T10:03:02.045258Z",
     "start_time": "2023-02-03T10:03:00.322862Z"
    },
    "scrolled": true
   },
   "outputs": [
    {
     "name": "stdout",
     "output_type": "stream",
     "text": [
      "epoch 1, loss 8.803906\n",
      "epoch 2, loss 4.756354\n",
      "epoch 3, loss 2.570289\n",
      "epoch 4, loss 1.389173\n",
      "epoch 5, loss 0.750916\n",
      "epoch 6, loss 0.405976\n",
      "epoch 7, loss 0.219523\n",
      "epoch 8, loss 0.118727\n",
      "epoch 9, loss 0.064219\n",
      "epoch 10, loss 0.034758\n",
      "epoch 11, loss 0.018827\n",
      "epoch 12, loss 0.010209\n",
      "epoch 13, loss 0.005548\n",
      "epoch 14, loss 0.003024\n",
      "epoch 15, loss 0.001658\n",
      "epoch 16, loss 0.000920\n",
      "epoch 17, loss 0.000520\n",
      "epoch 18, loss 0.000304\n",
      "epoch 19, loss 0.000186\n",
      "epoch 20, loss 0.000123\n",
      "epoch 21, loss 0.000088\n",
      "epoch 22, loss 0.000070\n",
      "epoch 23, loss 0.000060\n",
      "epoch 24, loss 0.000054\n",
      "epoch 25, loss 0.000051\n",
      "epoch 26, loss 0.000050\n",
      "epoch 27, loss 0.000049\n",
      "epoch 28, loss 0.000048\n",
      "epoch 29, loss 0.000048\n",
      "epoch 30, loss 0.000048\n",
      "epoch 31, loss 0.000048\n",
      "epoch 32, loss 0.000048\n",
      "epoch 33, loss 0.000048\n",
      "epoch 34, loss 0.000048\n",
      "epoch 35, loss 0.000048\n",
      "epoch 36, loss 0.000048\n",
      "epoch 37, loss 0.000048\n",
      "epoch 38, loss 0.000048\n",
      "epoch 39, loss 0.000048\n",
      "epoch 40, loss 0.000048\n",
      "epoch 41, loss 0.000048\n",
      "epoch 42, loss 0.000048\n",
      "epoch 43, loss 0.000048\n",
      "epoch 44, loss 0.000048\n",
      "epoch 45, loss 0.000048\n",
      "epoch 46, loss 0.000048\n",
      "epoch 47, loss 0.000048\n",
      "epoch 48, loss 0.000048\n",
      "epoch 49, loss 0.000048\n",
      "epoch 50, loss 0.000048\n",
      "epoch 51, loss 0.000048\n",
      "epoch 52, loss 0.000048\n",
      "epoch 53, loss 0.000048\n",
      "epoch 54, loss 0.000048\n",
      "epoch 55, loss 0.000048\n",
      "epoch 56, loss 0.000048\n",
      "epoch 57, loss 0.000048\n",
      "epoch 58, loss 0.000048\n",
      "epoch 59, loss 0.000048\n",
      "epoch 60, loss 0.000048\n",
      "epoch 61, loss 0.000048\n",
      "epoch 62, loss 0.000048\n",
      "epoch 63, loss 0.000048\n",
      "epoch 64, loss 0.000048\n",
      "epoch 65, loss 0.000048\n",
      "epoch 66, loss 0.000048\n",
      "epoch 67, loss 0.000048\n",
      "epoch 68, loss 0.000048\n",
      "epoch 69, loss 0.000048\n",
      "epoch 70, loss 0.000048\n",
      "epoch 71, loss 0.000048\n",
      "epoch 72, loss 0.000048\n",
      "epoch 73, loss 0.000048\n",
      "epoch 74, loss 0.000048\n",
      "epoch 75, loss 0.000048\n",
      "epoch 76, loss 0.000048\n",
      "epoch 77, loss 0.000048\n",
      "epoch 78, loss 0.000048\n",
      "epoch 79, loss 0.000048\n",
      "epoch 80, loss 0.000048\n",
      "epoch 81, loss 0.000048\n",
      "epoch 82, loss 0.000048\n",
      "epoch 83, loss 0.000048\n",
      "epoch 84, loss 0.000048\n",
      "epoch 85, loss 0.000048\n",
      "epoch 86, loss 0.000048\n",
      "epoch 87, loss 0.000048\n",
      "epoch 88, loss 0.000048\n",
      "epoch 89, loss 0.000048\n",
      "epoch 90, loss 0.000048\n",
      "epoch 91, loss 0.000048\n",
      "epoch 92, loss 0.000048\n",
      "epoch 93, loss 0.000048\n",
      "epoch 94, loss 0.000048\n",
      "epoch 95, loss 0.000048\n",
      "epoch 96, loss 0.000048\n",
      "epoch 97, loss 0.000048\n",
      "epoch 98, loss 0.000048\n",
      "epoch 99, loss 0.000048\n",
      "epoch 100, loss 0.000048\n"
     ]
    }
   ],
   "source": [
    "lr = 0.01\n",
    "num_epochs = 100\n",
    "net = linreg\n",
    "loss = squared_loss\n",
    "batch_size=32\n",
    "\n",
    "for epoch in range(num_epochs):\n",
    "    for X, y in data_iter(batch_size, features, labels):\n",
    "        l = loss(net(X, w, b), y)  # X和y的小批量损失\n",
    "        # 因为l形状是(batch_size,1)，而不是一个标量。l中的所有元素被加到一起，\n",
    "        # 并以此计算关于[w,b]的梯度\n",
    "        l.sum().backward()\n",
    "        sgd([w, b], lr, batch_size)  # 使用参数的梯度更新参数\n",
    "    with torch.no_grad():\n",
    "        train_l = loss(net(features, w, b), labels)\n",
    "        print(f'epoch {epoch + 1}, loss {float(train_l.mean()):f}')"
   ]
  },
  {
   "cell_type": "code",
   "execution_count": 70,
   "id": "cca88e7d",
   "metadata": {
    "ExecuteTime": {
     "end_time": "2023-02-03T10:03:05.019967Z",
     "start_time": "2023-02-03T10:03:04.881338Z"
    }
   },
   "outputs": [
    {
     "name": "stdout",
     "output_type": "stream",
     "text": [
      "tensor([[ 1.9997],\n",
      "        [-3.3995]], requires_grad=True) tensor([4.1994], requires_grad=True)\n"
     ]
    }
   ],
   "source": [
    "print(w,b)"
   ]
  },
  {
   "cell_type": "markdown",
   "id": "3603662c",
   "metadata": {
    "ExecuteTime": {
     "end_time": "2023-02-03T09:43:59.792268Z",
     "start_time": "2023-02-03T09:43:59.785286Z"
    }
   },
   "source": [
    "# 简洁实现"
   ]
  },
  {
   "cell_type": "code",
   "execution_count": 71,
   "id": "75f822cb",
   "metadata": {
    "ExecuteTime": {
     "end_time": "2023-02-03T10:03:14.963370Z",
     "start_time": "2023-02-03T10:03:14.959381Z"
    }
   },
   "outputs": [],
   "source": [
    "import numpy as np\n",
    "import torch\n",
    "from torch.utils import data\n",
    "from torch import nn"
   ]
  },
  {
   "cell_type": "code",
   "execution_count": 72,
   "id": "67b56ed6",
   "metadata": {
    "ExecuteTime": {
     "end_time": "2023-02-03T10:03:17.440748Z",
     "start_time": "2023-02-03T10:03:17.422796Z"
    }
   },
   "outputs": [],
   "source": [
    "# 调用框架中现有的API来读取数据。将features和labels作为API的参数传递，并通过数据迭代器指定batch_size。 \n",
    "# 此外，布尔值is_train表示是否希望数据迭代器对象在每个迭代周期内打乱数据。\n",
    "# 读取数据集\n",
    "def load_array(data_arrays, batch_size, is_train=True):  #@save\n",
    "    \"\"\"构造一个PyTorch数据迭代器\"\"\"\n",
    "    dataset = data.TensorDataset(*data_arrays)\n",
    "    return data.DataLoader(dataset, batch_size, shuffle=is_train)\n",
    "\n",
    "batch_size = 10\n",
    "data_iter = load_array((features, labels), batch_size)"
   ]
  },
  {
   "cell_type": "code",
   "execution_count": 73,
   "id": "60765362",
   "metadata": {
    "ExecuteTime": {
     "end_time": "2023-02-03T10:03:18.476727Z",
     "start_time": "2023-02-03T10:03:18.467242Z"
    }
   },
   "outputs": [],
   "source": [
    "# 定义模型\n",
    "net = nn.Sequential(nn.Linear(2, 1))\n",
    "# 初始化模型参数\n",
    "net[0].weight.data.normal_(0, 0.01)\n",
    "net[0].bias.data.fill_(0)\n",
    "# 定义损失函数\n",
    "loss = nn.MSELoss()\n",
    "# 定义优化算法\n",
    "trainer = torch.optim.SGD(net.parameters(), lr=0.01)"
   ]
  },
  {
   "cell_type": "code",
   "execution_count": 74,
   "id": "50e8d3ef",
   "metadata": {
    "ExecuteTime": {
     "end_time": "2023-02-03T10:03:28.798603Z",
     "start_time": "2023-02-03T10:03:21.345785Z"
    },
    "scrolled": true
   },
   "outputs": [
    {
     "name": "stdout",
     "output_type": "stream",
     "text": [
      "epoch 1, loss 0.614321\n",
      "epoch 2, loss 0.011757\n",
      "epoch 3, loss 0.000324\n",
      "epoch 4, loss 0.000101\n",
      "epoch 5, loss 0.000096\n",
      "epoch 6, loss 0.000096\n",
      "epoch 7, loss 0.000096\n",
      "epoch 8, loss 0.000096\n",
      "epoch 9, loss 0.000096\n",
      "epoch 10, loss 0.000096\n",
      "epoch 11, loss 0.000096\n",
      "epoch 12, loss 0.000096\n",
      "epoch 13, loss 0.000096\n",
      "epoch 14, loss 0.000096\n",
      "epoch 15, loss 0.000096\n",
      "epoch 16, loss 0.000096\n",
      "epoch 17, loss 0.000096\n",
      "epoch 18, loss 0.000096\n",
      "epoch 19, loss 0.000096\n",
      "epoch 20, loss 0.000096\n",
      "epoch 21, loss 0.000096\n",
      "epoch 22, loss 0.000096\n",
      "epoch 23, loss 0.000096\n",
      "epoch 24, loss 0.000096\n",
      "epoch 25, loss 0.000096\n",
      "epoch 26, loss 0.000096\n",
      "epoch 27, loss 0.000096\n",
      "epoch 28, loss 0.000096\n",
      "epoch 29, loss 0.000096\n",
      "epoch 30, loss 0.000096\n",
      "epoch 31, loss 0.000096\n",
      "epoch 32, loss 0.000096\n",
      "epoch 33, loss 0.000096\n",
      "epoch 34, loss 0.000096\n",
      "epoch 35, loss 0.000096\n",
      "epoch 36, loss 0.000096\n",
      "epoch 37, loss 0.000096\n",
      "epoch 38, loss 0.000096\n",
      "epoch 39, loss 0.000096\n",
      "epoch 40, loss 0.000096\n",
      "epoch 41, loss 0.000096\n",
      "epoch 42, loss 0.000096\n",
      "epoch 43, loss 0.000096\n",
      "epoch 44, loss 0.000096\n",
      "epoch 45, loss 0.000096\n",
      "epoch 46, loss 0.000096\n",
      "epoch 47, loss 0.000096\n",
      "epoch 48, loss 0.000096\n",
      "epoch 49, loss 0.000096\n",
      "epoch 50, loss 0.000096\n",
      "epoch 51, loss 0.000096\n",
      "epoch 52, loss 0.000096\n",
      "epoch 53, loss 0.000096\n",
      "epoch 54, loss 0.000096\n",
      "epoch 55, loss 0.000096\n",
      "epoch 56, loss 0.000096\n",
      "epoch 57, loss 0.000096\n",
      "epoch 58, loss 0.000096\n",
      "epoch 59, loss 0.000096\n",
      "epoch 60, loss 0.000096\n",
      "epoch 61, loss 0.000096\n",
      "epoch 62, loss 0.000096\n",
      "epoch 63, loss 0.000096\n",
      "epoch 64, loss 0.000096\n",
      "epoch 65, loss 0.000096\n",
      "epoch 66, loss 0.000096\n",
      "epoch 67, loss 0.000096\n",
      "epoch 68, loss 0.000096\n",
      "epoch 69, loss 0.000096\n",
      "epoch 70, loss 0.000096\n",
      "epoch 71, loss 0.000096\n",
      "epoch 72, loss 0.000096\n",
      "epoch 73, loss 0.000096\n",
      "epoch 74, loss 0.000096\n",
      "epoch 75, loss 0.000096\n",
      "epoch 76, loss 0.000096\n",
      "epoch 77, loss 0.000096\n",
      "epoch 78, loss 0.000096\n",
      "epoch 79, loss 0.000096\n",
      "epoch 80, loss 0.000096\n",
      "epoch 81, loss 0.000096\n",
      "epoch 82, loss 0.000096\n",
      "epoch 83, loss 0.000096\n",
      "epoch 84, loss 0.000096\n",
      "epoch 85, loss 0.000096\n",
      "epoch 86, loss 0.000096\n",
      "epoch 87, loss 0.000096\n",
      "epoch 88, loss 0.000096\n",
      "epoch 89, loss 0.000096\n",
      "epoch 90, loss 0.000096\n",
      "epoch 91, loss 0.000096\n",
      "epoch 92, loss 0.000096\n",
      "epoch 93, loss 0.000096\n",
      "epoch 94, loss 0.000096\n",
      "epoch 95, loss 0.000096\n",
      "epoch 96, loss 0.000096\n",
      "epoch 97, loss 0.000096\n",
      "epoch 98, loss 0.000096\n",
      "epoch 99, loss 0.000096\n",
      "epoch 100, loss 0.000096\n"
     ]
    }
   ],
   "source": [
    "# 训练模型\n",
    "num_epochs = 100\n",
    "for epoch in range(num_epochs):\n",
    "    for X, y in data_iter:\n",
    "        l = loss(net(X) ,y)\n",
    "        trainer.zero_grad()\n",
    "        l.backward()\n",
    "        trainer.step()\n",
    "    l = loss(net(features), labels)\n",
    "    print(f'epoch {epoch + 1}, loss {l:f}')"
   ]
  },
  {
   "cell_type": "code",
   "execution_count": 75,
   "id": "ff983f75",
   "metadata": {
    "ExecuteTime": {
     "end_time": "2023-02-03T10:03:31.199187Z",
     "start_time": "2023-02-03T10:03:31.035623Z"
    }
   },
   "outputs": [
    {
     "name": "stdout",
     "output_type": "stream",
     "text": [
      "Parameter containing:\n",
      "tensor([[ 1.9997, -3.3998]], requires_grad=True)\n",
      "Parameter containing:\n",
      "tensor([4.1996], requires_grad=True)\n"
     ]
    }
   ],
   "source": [
    "print(net[0].weight)\n",
    "print(net[0].bias)"
   ]
  },
  {
   "cell_type": "code",
   "execution_count": null,
   "id": "a975e340",
   "metadata": {},
   "outputs": [],
   "source": []
  }
 ],
 "metadata": {
  "kernelspec": {
   "display_name": "Python [conda env:torch]",
   "language": "python",
   "name": "conda-env-torch-py"
  },
  "language_info": {
   "codemirror_mode": {
    "name": "ipython",
    "version": 3
   },
   "file_extension": ".py",
   "mimetype": "text/x-python",
   "name": "python",
   "nbconvert_exporter": "python",
   "pygments_lexer": "ipython3",
   "version": "3.8.13"
  },
  "toc": {
   "base_numbering": 1,
   "nav_menu": {},
   "number_sections": true,
   "sideBar": true,
   "skip_h1_title": false,
   "title_cell": "Table of Contents",
   "title_sidebar": "Contents",
   "toc_cell": false,
   "toc_position": {},
   "toc_section_display": true,
   "toc_window_display": false
  }
 },
 "nbformat": 4,
 "nbformat_minor": 5
}
