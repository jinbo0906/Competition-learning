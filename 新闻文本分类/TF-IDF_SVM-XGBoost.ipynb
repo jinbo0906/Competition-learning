{
 "cells": [
  {
   "cell_type": "markdown",
   "id": "9bbf8be9",
   "metadata": {},
   "source": [
    "# 基于机器学习的文本分类\n",
    "## 学习目标\n",
    "学会TF-IDF的原理和使用\n",
    "使用sklearn的机器学习模型完成文本分类\n",
    "\n",
    "**TF-IDF**\n",
    "\n",
    "TF-IDF 分数由两部分组成：第一部分是词语频率（Term Frequency），第二部分是逆文档频率（Inverse Document Frequency）。其中计算语料库中文档总数除以含有该词语的文档数量，然后再取对数就是逆文档频率。\n",
    "\n",
    "TF(t)= 该词语在当前文档出现的次数 / 当前文档中词语的总数\n",
    "\n",
    "IDF(t)= log_e（文档总数 / 出现该词语的文档总数）"
   ]
  },
  {
   "cell_type": "code",
   "execution_count": 13,
   "id": "754dc5ff",
   "metadata": {
    "ExecuteTime": {
     "end_time": "2023-02-02T16:58:44.980908Z",
     "start_time": "2023-02-02T16:58:44.955976Z"
    }
   },
   "outputs": [],
   "source": [
    "import pandas as pd\n",
    "from sklearn.model_selection import KFold\n",
    "from sklearn.feature_extraction.text import TfidfVectorizer\n",
    "from sklearn.svm import LinearSVC\n",
    "from xgboost import XGBClassifier  # XGBoost分类器\n",
    "from sklearn.metrics import f1_score"
   ]
  },
  {
   "cell_type": "code",
   "execution_count": 14,
   "id": "76f557a6",
   "metadata": {
    "ExecuteTime": {
     "end_time": "2023-02-02T16:58:59.848988Z",
     "start_time": "2023-02-02T16:58:46.176375Z"
    }
   },
   "outputs": [],
   "source": [
    "# 数据读取\n",
    "train_df = pd.read_csv('./data/train_set.csv', sep='\\t', nrows=None)\n",
    "test_df = pd.read_csv('./data/test_a.csv', sep='\\t')"
   ]
  },
  {
   "cell_type": "code",
   "execution_count": null,
   "id": "e802bc4c",
   "metadata": {
    "ExecuteTime": {
     "start_time": "2023-02-02T16:59:14.734Z"
    }
   },
   "outputs": [],
   "source": [
    "tfidf = TfidfVectorizer(\n",
    "    sublinear_tf=True,\n",
    "    strip_accents='unicode',\n",
    "    analyzer='word',\n",
    "    token_pattern=r'\\w{1,}',\n",
    "    stop_words='english',\n",
    "    ngram_range=(1,3),\n",
    "    max_features=10000)\n",
    "# 构建词汇表以及idf值，这里同时生成训练集的VSM矩阵\n",
    "tfidf.fit(pd.concat([train_df['text'], test_df['text']]))\n",
    "train_word_features = tfidf.transform(train_df['text'])\n",
    "test_word_features = tfidf.transform(test_df['text'])"
   ]
  },
  {
   "cell_type": "code",
   "execution_count": null,
   "id": "f103de7c",
   "metadata": {
    "ExecuteTime": {
     "start_time": "2023-02-02T17:09:10.146Z"
    }
   },
   "outputs": [],
   "source": [
    "X_train = train_word_features\n",
    "y_train = train_df['label']\n",
    "X_test = test_word_features"
   ]
  },
  {
   "cell_type": "markdown",
   "id": "043c95a0",
   "metadata": {},
   "source": [
    "## SVM"
   ]
  },
  {
   "cell_type": "code",
   "execution_count": null,
   "id": "0a38c7a7",
   "metadata": {
    "ExecuteTime": {
     "start_time": "2023-02-02T17:10:30.733Z"
    }
   },
   "outputs": [],
   "source": [
    "KF = KFold(n_splits=10, random_state=7)\n",
    "clf = LinearSVC()\n",
    "test_pred = np.zeros((X_test.shape[0], 1), int)  # 存储测试集预测结果 行数：len(X_test) ,列数：1列\n",
    "for KF_index, (train_index,valid_index) in enumerate(KF.split(X_train)):\n",
    "    print('第', KF_index+1, '折交叉验证开始...')\n",
    "    # 训练集划分\n",
    "    x_train_, x_valid_ = X_train[train_index], X_train[valid_index]\n",
    "    y_train_, y_valid_ = y_train[train_index], y_train[valid_index]\n",
    "    # 模型构建\n",
    "    clf.fit(x_train_, y_train_)\n",
    "    # 模型预测\n",
    "    val_pred = clf.predict(x_valid_)\n",
    "    print(\"LinearSVC准确率为：\",f1_score(y_valid_, val_pred, average='macro'))\n",
    "    # 保存测试集预测结果\n",
    "    test_pred = np.column_stack((test_pred, clf.predict(X_test)))  # 将矩阵按列合并\n",
    "# 取测试集中预测数量最多的数\n",
    "preds = []\n",
    "for i, test_list in enumerate(test_pred):\n",
    "    preds.append(np.argmax(np.bincount(test_list)))\n",
    "preds = np.array(preds)"
   ]
  },
  {
   "cell_type": "code",
   "execution_count": null,
   "id": "b7d09967",
   "metadata": {
    "ExecuteTime": {
     "start_time": "2023-02-02T17:10:33.519Z"
    }
   },
   "outputs": [],
   "source": [
    "submission = pd.read_csv('./data/test_a_sample_submit.csv')\n",
    "submission['label'] = preds\n",
    "submission.to_csv('./output/TF-IDF+LinearSVC_submission.csv', index=False)"
   ]
  },
  {
   "cell_type": "markdown",
   "id": "e3056e84",
   "metadata": {},
   "source": [
    "## xgboost"
   ]
  },
  {
   "cell_type": "code",
   "execution_count": null,
   "id": "10384f31",
   "metadata": {},
   "outputs": [],
   "source": [
    "KF = KFold(n_splits=10, random_state=7)\n",
    "xg = XGBRegressor()\n",
    "test_pred = np.zeros((X_test.shape[0], 1), int)  # 存储测试集预测结果 行数：len(X_test) ,列数：1列\n",
    "for KF_index, (train_index,valid_index) in enumerate(KF.split(X_train)):\n",
    "    print('第', KF_index+1, '折交叉验证开始...')\n",
    "    # 训练集划分\n",
    "    x_train_, x_valid_ = X_train[train_index], X_train[valid_index]\n",
    "    y_train_, y_valid_ = y_train[train_index], y_train[valid_index]\n",
    "    # 模型构建\n",
    "    xg.fit(x_train_, y_train_)\n",
    "    # 模型预测\n",
    "    val_pred = xg.predict(x_valid_)\n",
    "    print(\"LinearSVC准确率为：\",f1_score(y_valid_, val_pred, average='macro'))\n",
    "    # 保存测试集预测结果\n",
    "    test_pred = np.column_stack((test_pred, xg.predict(X_test)))  # 将矩阵按列合并\n",
    "# 取测试集中预测数量最多的数\n",
    "preds = []\n",
    "for i, test_list in enumerate(test_pred):\n",
    "    preds.append(np.argmax(np.bincount(test_list)))\n",
    "preds = np.array(preds)"
   ]
  },
  {
   "cell_type": "code",
   "execution_count": null,
   "id": "5d2f02bd",
   "metadata": {},
   "outputs": [],
   "source": [
    "submission = pd.read_csv('./data/test_a_sample_submit.csv')\n",
    "submission['label'] = preds\n",
    "submission.to_csv('./output/TF-IDF+XGBoost_submission.csv', index=False)"
   ]
  }
 ],
 "metadata": {
  "kernelspec": {
   "display_name": "Python [conda env:torch]",
   "language": "python",
   "name": "conda-env-torch-py"
  },
  "language_info": {
   "codemirror_mode": {
    "name": "ipython",
    "version": 3
   },
   "file_extension": ".py",
   "mimetype": "text/x-python",
   "name": "python",
   "nbconvert_exporter": "python",
   "pygments_lexer": "ipython3",
   "version": "3.8.13"
  },
  "toc": {
   "base_numbering": 1,
   "nav_menu": {},
   "number_sections": true,
   "sideBar": true,
   "skip_h1_title": false,
   "title_cell": "Table of Contents",
   "title_sidebar": "Contents",
   "toc_cell": false,
   "toc_position": {},
   "toc_section_display": true,
   "toc_window_display": false
  }
 },
 "nbformat": 4,
 "nbformat_minor": 5
}
